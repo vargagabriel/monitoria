{
 "cells": [
  {
   "cell_type": "markdown",
   "metadata": {},
   "source": [
    "# Introdução ao Python - Segunda Semana"
   ]
  },
  {
   "cell_type": "markdown",
   "metadata": {},
   "source": [
    "## Tipos de Dados (Tipos de dados, operador aritmético de divisão inteira e resto (//, %), conversão de tipos, comando \"len\")"
   ]
  },
  {
   "cell_type": "markdown",
   "metadata": {},
   "source": [
    "### Tipos de dados"
   ]
  },
  {
   "cell_type": "markdown",
   "metadata": {},
   "source": [
    "** 1) Classes**"
   ]
  },
  {
   "cell_type": "markdown",
   "metadata": {},
   "source": [
    "** 1.1) ** Inteiros:"
   ]
  },
  {
   "cell_type": "code",
   "execution_count": 1,
   "metadata": {},
   "outputs": [
    {
     "data": {
      "text/plain": [
       "int"
      ]
     },
     "execution_count": 1,
     "metadata": {},
     "output_type": "execute_result"
    }
   ],
   "source": [
    "type(10)"
   ]
  },
  {
   "cell_type": "markdown",
   "metadata": {},
   "source": [
    "** 1.2) ** String:"
   ]
  },
  {
   "cell_type": "code",
   "execution_count": 2,
   "metadata": {},
   "outputs": [
    {
     "data": {
      "text/plain": [
       "str"
      ]
     },
     "execution_count": 2,
     "metadata": {},
     "output_type": "execute_result"
    }
   ],
   "source": [
    "type(\"tudo bem?\")"
   ]
  },
  {
   "cell_type": "markdown",
   "metadata": {},
   "source": [
    "** 1.3) ** Float:"
   ]
  },
  {
   "cell_type": "code",
   "execution_count": 6,
   "metadata": {},
   "outputs": [
    {
     "data": {
      "text/plain": [
       "2.5"
      ]
     },
     "execution_count": 6,
     "metadata": {},
     "output_type": "execute_result"
    }
   ],
   "source": [
    "5/2"
   ]
  },
  {
   "cell_type": "code",
   "execution_count": 5,
   "metadata": {},
   "outputs": [
    {
     "data": {
      "text/plain": [
       "float"
      ]
     },
     "execution_count": 5,
     "metadata": {},
     "output_type": "execute_result"
    }
   ],
   "source": [
    "type(5/2)"
   ]
  },
  {
   "cell_type": "markdown",
   "metadata": {},
   "source": [
    "** 2) Operações **\n",
    "\n",
    "**2.1)** Efetuar uma divisão com o resultado inteiro:"
   ]
  },
  {
   "cell_type": "code",
   "execution_count": 7,
   "metadata": {},
   "outputs": [
    {
     "data": {
      "text/plain": [
       "3"
      ]
     },
     "execution_count": 7,
     "metadata": {},
     "output_type": "execute_result"
    }
   ],
   "source": [
    "10 // 3"
   ]
  },
  {
   "cell_type": "markdown",
   "metadata": {},
   "source": [
    "**2.2)** Verificar o resto da divisão:"
   ]
  },
  {
   "cell_type": "code",
   "execution_count": 10,
   "metadata": {},
   "outputs": [
    {
     "data": {
      "text/plain": [
       "1"
      ]
     },
     "execution_count": 10,
     "metadata": {},
     "output_type": "execute_result"
    }
   ],
   "source": [
    "10 % 3"
   ]
  },
  {
   "cell_type": "markdown",
   "metadata": {},
   "source": [
    "**2.3)** Operações com variáveis de tipos diferentes:"
   ]
  },
  {
   "cell_type": "code",
   "execution_count": 11,
   "metadata": {
    "collapsed": true
   },
   "outputs": [],
   "source": [
    "peso = 78\n",
    "altura = 1.83"
   ]
  },
  {
   "cell_type": "code",
   "execution_count": 12,
   "metadata": {},
   "outputs": [
    {
     "data": {
      "text/plain": [
       "78"
      ]
     },
     "execution_count": 12,
     "metadata": {},
     "output_type": "execute_result"
    }
   ],
   "source": [
    "peso"
   ]
  },
  {
   "cell_type": "code",
   "execution_count": 13,
   "metadata": {},
   "outputs": [
    {
     "data": {
      "text/plain": [
       "1.83"
      ]
     },
     "execution_count": 13,
     "metadata": {},
     "output_type": "execute_result"
    }
   ],
   "source": [
    "altura"
   ]
  },
  {
   "cell_type": "code",
   "execution_count": 15,
   "metadata": {},
   "outputs": [
    {
     "data": {
      "text/plain": [
       "23.291229956104985"
      ]
     },
     "execution_count": 15,
     "metadata": {},
     "output_type": "execute_result"
    }
   ],
   "source": [
    "IMC = peso / (altura ** 2)\n",
    "IMC"
   ]
  },
  {
   "cell_type": "code",
   "execution_count": 17,
   "metadata": {},
   "outputs": [
    {
     "data": {
      "text/plain": [
       "float"
      ]
     },
     "execution_count": 17,
     "metadata": {},
     "output_type": "execute_result"
    }
   ],
   "source": [
    "type(IMC)"
   ]
  },
  {
   "cell_type": "markdown",
   "metadata": {},
   "source": [
    "**3) Conversões entre tipos de variáveis**\n",
    "\n",
    "**3.1)** Converter um float para inteiro"
   ]
  },
  {
   "cell_type": "code",
   "execution_count": 16,
   "metadata": {},
   "outputs": [
    {
     "data": {
      "text/plain": [
       "23"
      ]
     },
     "execution_count": 16,
     "metadata": {},
     "output_type": "execute_result"
    }
   ],
   "source": [
    "IMC_inteiro = int(IMC)\n",
    "IMC_inteiro"
   ]
  },
  {
   "cell_type": "markdown",
   "metadata": {},
   "source": [
    "**3.2)** Comprimeiro de strings"
   ]
  },
  {
   "cell_type": "code",
   "execution_count": 21,
   "metadata": {
    "collapsed": true
   },
   "outputs": [],
   "source": [
    "texto = \"Bom dia!\""
   ]
  },
  {
   "cell_type": "code",
   "execution_count": 22,
   "metadata": {},
   "outputs": [
    {
     "data": {
      "text/plain": [
       "8"
      ]
     },
     "execution_count": 22,
     "metadata": {},
     "output_type": "execute_result"
    }
   ],
   "source": [
    "len(texto)"
   ]
  },
  {
   "cell_type": "markdown",
   "metadata": {},
   "source": [
    "**3.3)** Converter um float / inteiro para uma string"
   ]
  },
  {
   "cell_type": "code",
   "execution_count": 24,
   "metadata": {},
   "outputs": [
    {
     "data": {
      "text/plain": [
       "'23.291229956104985'"
      ]
     },
     "execution_count": 24,
     "metadata": {},
     "output_type": "execute_result"
    }
   ],
   "source": [
    "variavel_temp = str(IMC)\n",
    "variavel_temp"
   ]
  },
  {
   "cell_type": "code",
   "execution_count": 26,
   "metadata": {},
   "outputs": [
    {
     "data": {
      "text/plain": [
       "18"
      ]
     },
     "execution_count": 26,
     "metadata": {},
     "output_type": "execute_result"
    }
   ],
   "source": [
    "len(variavel_temp)"
   ]
  },
  {
   "cell_type": "code",
   "execution_count": 31,
   "metadata": {},
   "outputs": [
    {
     "data": {
      "text/plain": [
       "18"
      ]
     },
     "execution_count": 31,
     "metadata": {},
     "output_type": "execute_result"
    }
   ],
   "source": [
    "len(str(IMC)) #Outra maneira de fazer a operação anterior"
   ]
  },
  {
   "cell_type": "markdown",
   "metadata": {},
   "source": [
    "### Exercícios"
   ]
  },
  {
   "cell_type": "markdown",
   "metadata": {},
   "source": [
    "**1)** Qual operador é usado para divisão inteira?"
   ]
  },
  {
   "cell_type": "markdown",
   "metadata": {},
   "source": [
    "**Resposta:** //"
   ]
  },
  {
   "cell_type": "markdown",
   "metadata": {},
   "source": [
    "**2)** Como armazenar em uma nova variável a quantidade total de caracteres das três variáveis abaixo?\n",
    "\n",
    "cumprimento = \"Olá\"\n",
    "\n",
    "nome = \"Ana\"\n",
    "\n",
    "turno = \"bom dia\""
   ]
  },
  {
   "cell_type": "code",
   "execution_count": 34,
   "metadata": {},
   "outputs": [
    {
     "data": {
      "text/plain": [
       "13"
      ]
     },
     "execution_count": 34,
     "metadata": {},
     "output_type": "execute_result"
    }
   ],
   "source": [
    "cumprimento = \"Olá\"\n",
    "nome = \"Ana\"\n",
    "turno = \"bom dia\"\n",
    "\n",
    "tamanho = len(cumprimento) + len(nome) + len(turno)\n",
    "tamanho"
   ]
  },
  {
   "cell_type": "markdown",
   "metadata": {},
   "source": [
    "**3)** Qual a ordem de precedência em Python?"
   ]
  },
  {
   "cell_type": "markdown",
   "metadata": {},
   "source": [
    "**Resposta:** parênteses, exponenciação, divisão e multiplicação, por fim, adição e subtração."
   ]
  },
  {
   "cell_type": "markdown",
   "metadata": {},
   "source": [
    "**4)** Qual o valor resultante da expressão (22 % 3)?"
   ]
  },
  {
   "cell_type": "code",
   "execution_count": 35,
   "metadata": {},
   "outputs": [
    {
     "data": {
      "text/plain": [
       "1"
      ]
     },
     "execution_count": 35,
     "metadata": {},
     "output_type": "execute_result"
    }
   ],
   "source": [
    "22 % 3"
   ]
  },
  {
   "cell_type": "markdown",
   "metadata": {},
   "source": [
    "**5)** Qual o resultado da expressão 2*1**2?"
   ]
  },
  {
   "cell_type": "code",
   "execution_count": 36,
   "metadata": {},
   "outputs": [
    {
     "data": {
      "text/plain": [
       "2"
      ]
     },
     "execution_count": 36,
     "metadata": {},
     "output_type": "execute_result"
    }
   ],
   "source": [
    "2*1**2"
   ]
  },
  {
   "cell_type": "markdown",
   "metadata": {},
   "source": [
    "**6)** Analise as duas afirmativas abaixo:\n",
    "\n",
    "i - int(x) converte o valor da variável x para um inteiro.\n",
    "\n",
    "ii - é possível realizar operações matemáticas com strings.\n",
    "\n",
    "É correto dizer que:"
   ]
  },
  {
   "cell_type": "markdown",
   "metadata": {},
   "source": [
    "**Resposta:** i é verdadeiro e ii é falso."
   ]
  },
  {
   "cell_type": "markdown",
   "metadata": {},
   "source": [
    "## Entrada de Dados (Comando \"input\", utilizou conversão de tipo, resolução de dois exercícios)\n"
   ]
  },
  {
   "cell_type": "markdown",
   "metadata": {},
   "source": [
    "### Entrada de Dados"
   ]
  },
  {
   "cell_type": "code",
   "execution_count": 12,
   "metadata": {},
   "outputs": [
    {
     "name": "stdout",
     "output_type": "stream",
     "text": [
      "A temperatura em celsius é 25.555555555555557\n"
     ]
    }
   ],
   "source": [
    "# Converter a temperatura em °F para °C\n",
    "temp_fahrenheit = 78\n",
    "temp_celsius = (temp_fahrenheit - 32) * 5 / 9\n",
    "\n",
    "print(\"A temperatura em celsius é\", temp_celsius)"
   ]
  },
  {
   "cell_type": "markdown",
   "metadata": {},
   "source": [
    "O programa feito acima não é prático, pois é preciso alterar o seu código toda vez que a temperatura em Fahrenheit muda. O ideal é que o programa antes de converter, pergunte para o usuário qual é a temperatura em Fahrenheit."
   ]
  },
  {
   "cell_type": "markdown",
   "metadata": {},
   "source": [
    "**1)** Função **input**"
   ]
  },
  {
   "cell_type": "markdown",
   "metadata": {},
   "source": [
    "A função **input** é feita para capturar os dados que o usuário digita no teclado. Ela sempre grava os dados em forma de string (texto), então é necessário fazer a conversão da variável para um float ou um inteiro, caso precise utilizar valores numéricos."
   ]
  },
  {
   "cell_type": "code",
   "execution_count": 13,
   "metadata": {},
   "outputs": [
    {
     "name": "stdout",
     "output_type": "stream",
     "text": [
      "Digite uma temperatura em Fahrenheit: 78\n",
      "A temperatura em celsius é 25.555555555555557 °C\n"
     ]
    }
   ],
   "source": [
    "# Vamos reescrever o programa acima utilizando a função input para \n",
    "# capturar a temperatura\n",
    "\n",
    "# Converter a temperatura em °F para °C\n",
    "temp_fahrenheit = input(\"Digite uma temperatura em Fahrenheit: \")\n",
    "temp_celsius = (float(temp_fahrenheit) - 32) * 5 / 9\n",
    "\n",
    "print(\"A temperatura em celsius é\", temp_celsius, \"°C\")\n"
   ]
  },
  {
   "cell_type": "code",
   "execution_count": 11,
   "metadata": {},
   "outputs": [
    {
     "name": "stdout",
     "output_type": "stream",
     "text": [
      "Qual o nome da sua mãe? Maria\n",
      "Qual o nome do seu pai? Jair\n",
      "Bom dia Sra. Maria !!! E bom dia Sr. Jair !!!\n"
     ]
    }
   ],
   "source": [
    "# Programa para dar bom dia para a mãe e o pai\n",
    "nome_mae = input(\"Qual o nome da sua mãe? \")\n",
    "nome_pai = input(\"Qual o nome do seu pai? \")\n",
    "\n",
    "print(\"Bom dia Sra.\", nome_mae, \"!!! E bom dia Sr.\", nome_pai, \"!!!\")"
   ]
  },
  {
   "cell_type": "code",
   "execution_count": 15,
   "metadata": {},
   "outputs": [
    {
     "name": "stdout",
     "output_type": "stream",
     "text": [
      "Por favor, entre com o número de segundos que deseja converter: 17345\n",
      "4 horas,  49 minutos e 5 segundos.\n"
     ]
    }
   ],
   "source": [
    "# Programa que converte segundos em horas, minutos e segundos\n",
    "segundos_str = input(\"Por favor, entre com o número de segundos que deseja converter: \")\n",
    "segundos_int = int(segundos_str)\n",
    "\n",
    "horas = segundos_int // 3600 # faz a divisão inteira da quantidade de segundos, descobre quantas horas tem na quantidade de segundos informados pelo usuário\n",
    "segs_restantes = segundos_int % 3600 # calcula o resto da divisão da quantidade de segundos, descobre o que sobrou da quantidade de segundos informada pelo usuário sem as horas\n",
    "\n",
    "minutos = segs_restantes  // 60 # faz a divisão inteira da quantidade de segundos restantes depois da divisão da quantidade de horas, gerando assim a quantidade de minutos\n",
    "segundos = segs_restantes % 60 # utiliza o resto da divisão inteira dos minutos, gerando assim a quantidade de segundos final\n",
    "\n",
    "print(horas, \"horas, \", minutos, \"minutos e\", segundos, \"segundos.\")"
   ]
  },
  {
   "cell_type": "markdown",
   "metadata": {},
   "source": [
    "### Exercícios"
   ]
  },
  {
   "cell_type": "markdown",
   "metadata": {},
   "source": [
    "**1)** Para que serve o comando \"input\" do Python?"
   ]
  },
  {
   "cell_type": "markdown",
   "metadata": {},
   "source": [
    "**Resposta:** Ler dados digitados pelo usuário."
   ]
  },
  {
   "cell_type": "markdown",
   "metadata": {},
   "source": [
    "**2)** Como exatamente será a saída dos comandos abaixo?\n",
    "\n",
    "```python\n",
    "print(\"Olá\")\n",
    "print() \n",
    "print(\"bom dia!\")\n",
    "```\n"
   ]
  },
  {
   "cell_type": "code",
   "execution_count": 16,
   "metadata": {},
   "outputs": [
    {
     "name": "stdout",
     "output_type": "stream",
     "text": [
      "Olá\n",
      "\n",
      "bom dia!\n"
     ]
    }
   ],
   "source": [
    "print(\"Olá\")\n",
    "print()\n",
    "print(\"bom dia!\")"
   ]
  },
  {
   "cell_type": "markdown",
   "metadata": {},
   "source": [
    "**3)** O que faz o comando abaixo?\n",
    "\n",
    "```python\n",
    "x = input (\"Qual a sua idade?\")\n",
    "```"
   ]
  },
  {
   "cell_type": "code",
   "execution_count": 21,
   "metadata": {},
   "outputs": [
    {
     "name": "stdout",
     "output_type": "stream",
     "text": [
      "Qual a sua idade? 25\n"
     ]
    }
   ],
   "source": [
    "x = input (\"Qual a sua idade? \")"
   ]
  },
  {
   "cell_type": "markdown",
   "metadata": {},
   "source": [
    "**Resposta:** Imprime a mensagem \"Qual a sua idade?\" na tela, lê um dado digitado pelo usuário e armazena na variável x."
   ]
  },
  {
   "cell_type": "markdown",
   "metadata": {},
   "source": [
    "**4)** O que será impresso pelo trecho de programa abaixo?\n",
    "\n",
    "```python\n",
    "a = 10\n",
    "b = 20\n",
    "c = a\n",
    "b = c\n",
    "a = b\n",
    "print(a,b,c)\n",
    "```"
   ]
  },
  {
   "cell_type": "code",
   "execution_count": 20,
   "metadata": {},
   "outputs": [
    {
     "name": "stdout",
     "output_type": "stream",
     "text": [
      "10 10 10\n"
     ]
    }
   ],
   "source": [
    "a = 10\n",
    "b = 20\n",
    "c = a\n",
    "b = c\n",
    "a = b\n",
    "print(a, b, c)"
   ]
  },
  {
   "cell_type": "markdown",
   "metadata": {},
   "source": [
    "**5)** O que será impresso pelo trecho de programa abaixo?\n",
    "\n",
    "```python\n",
    "a = 10\n",
    "b = 5\n",
    "c = a + b\n",
    "b = 20\n",
    "print(a,b,c)\n",
    "```\n"
   ]
  },
  {
   "cell_type": "code",
   "execution_count": 22,
   "metadata": {},
   "outputs": [
    {
     "name": "stdout",
     "output_type": "stream",
     "text": [
      "10 20 15\n"
     ]
    }
   ],
   "source": [
    "a = 10\n",
    "b = 5\n",
    "c = a + b\n",
    "b = 20\n",
    "print(a, b, c)"
   ]
  },
  {
   "cell_type": "markdown",
   "metadata": {},
   "source": [
    "**6** O que será impresso pelo trecho de programa abaixo?\n",
    "\n",
    "```python\n",
    "A = 10\n",
    "a = 20\n",
    "a = 2 * a\n",
    "A = a + A\n",
    "print(a)\n",
    "```"
   ]
  },
  {
   "cell_type": "code",
   "execution_count": 23,
   "metadata": {},
   "outputs": [
    {
     "name": "stdout",
     "output_type": "stream",
     "text": [
      "40\n"
     ]
    }
   ],
   "source": [
    "A = 10\n",
    "a = 20\n",
    "a = 2 * a\n",
    "A = a + A\n",
    "print(a)"
   ]
  },
  {
   "cell_type": "markdown",
   "metadata": {},
   "source": [
    "**7)** O que será impresso ao executar o seguinte comando?\n",
    "```python\n",
    "print (\"olá\" 'mundo')\n",
    "```"
   ]
  },
  {
   "cell_type": "code",
   "execution_count": 24,
   "metadata": {},
   "outputs": [
    {
     "name": "stdout",
     "output_type": "stream",
     "text": [
      "olámundo\n"
     ]
    }
   ],
   "source": [
    "print(\"olá\" 'mundo')"
   ]
  },
  {
   "cell_type": "markdown",
   "metadata": {},
   "source": [
    "## Exercícios de Programação"
   ]
  },
  {
   "cell_type": "markdown",
   "metadata": {},
   "source": [
    "**1)** Qual o tipo de dado armazenado na variável x pelo comando abaixo?\n",
    "```python\n",
    "x = input (\"Qual a idade? \")\n",
    "```\n"
   ]
  },
  {
   "cell_type": "code",
   "execution_count": 25,
   "metadata": {},
   "outputs": [
    {
     "name": "stdout",
     "output_type": "stream",
     "text": [
      "Qual a idade? 56\n"
     ]
    },
    {
     "data": {
      "text/plain": [
       "str"
      ]
     },
     "execution_count": 25,
     "metadata": {},
     "output_type": "execute_result"
    }
   ],
   "source": [
    "x = input (\"Qual a idade? \")\n",
    "type(x)"
   ]
  },
  {
   "cell_type": "markdown",
   "metadata": {},
   "source": [
    "**2)** Quais os valores finais das variáveis a e b, se o usuário digitar 1 e 2, respectivamente?\n",
    "\n",
    "```python\n",
    "a = int(input(\"Qual o valor de a? \"))\n",
    "b = int(input(\"Qual o valor de b? \"))\n",
    "a = b\n",
    "b = a\n",
    "print(a)\n",
    "print(b)\n",
    "```"
   ]
  },
  {
   "cell_type": "code",
   "execution_count": 27,
   "metadata": {},
   "outputs": [
    {
     "name": "stdout",
     "output_type": "stream",
     "text": [
      "Qual o valor de a? 1\n",
      "Qual o valor de b? 2\n",
      "2\n",
      "2\n"
     ]
    }
   ],
   "source": [
    "a = int(input(\"Qual o valor de a? \"))\n",
    "b = int(input(\"Qual o valor de b? \"))\n",
    "a = b\n",
    "b = a\n",
    "print(a)\n",
    "print(b)"
   ]
  },
  {
   "cell_type": "markdown",
   "metadata": {},
   "source": [
    "**3)** Quais os valores finais das variáveis a e b, se o usuário digitar 1 e 2, respectivamente?\n",
    "\n",
    "```python\n",
    "a = int(input(\"Qual o valor de a? \"))\n",
    "b = int(input(\"Qual o valor de b? \"))\n",
    "aux = a\n",
    "a = b\n",
    "b = aux\n",
    "print(a)\n",
    "print(b)\n",
    "```"
   ]
  },
  {
   "cell_type": "code",
   "execution_count": 28,
   "metadata": {},
   "outputs": [
    {
     "name": "stdout",
     "output_type": "stream",
     "text": [
      "Qual o valor de a? 1\n",
      "Qual o valor de b? 2\n",
      "2\n",
      "1\n"
     ]
    }
   ],
   "source": [
    "a = int(input(\"Qual o valor de a? \"))\n",
    "b = int(input(\"Qual o valor de b? \"))\n",
    "aux = a\n",
    "a = b\n",
    "b = aux\n",
    "print(a)\n",
    "print(b)"
   ]
  },
  {
   "cell_type": "markdown",
   "metadata": {},
   "source": [
    "## Tarefa de programação: Lista de exercícios - 1"
   ]
  },
  {
   "cell_type": "markdown",
   "metadata": {},
   "source": [
    "### Exercício 1"
   ]
  },
  {
   "cell_type": "markdown",
   "metadata": {},
   "source": [
    "Faça um programa em Python que receba (entrada de dados) o valor correspondente ao lado de um quadrado, calcule e imprima (saída de dados) seu perímetro e sua área.\n",
    "\n",
    "Observação: a saída deve estar no formato: \"perímetro: x - área: y\""
   ]
  },
  {
   "cell_type": "markdown",
   "metadata": {},
   "source": [
    "Abaixo um exemplo de como deve ser a entrada e saída de dados do programa:\n",
    "\n",
    "Entrada de Dados:\n",
    "**Digite o valor correspondente ao lado de um quadrado: 3**\n",
    "\n",
    "Saída de Dados:\n",
    "**perímetro: 12 - área: 9**"
   ]
  },
  {
   "cell_type": "code",
   "execution_count": 31,
   "metadata": {},
   "outputs": [
    {
     "name": "stdout",
     "output_type": "stream",
     "text": [
      "Digite o valor correspondente ao lado de um quadrado: 3\n",
      "perímetro: 12 - área: 9\n"
     ]
    }
   ],
   "source": [
    "# Resolução do exercício 1\n",
    "\n",
    "lado_quadrado = int(input(\"Digite o valor correspondente ao lado de um quadrado: \"))\n",
    "\n",
    "perimetro = lado_quadrado * 4\n",
    "area = lado_quadrado ** 2\n",
    "\n",
    "print(\"perímetro:\", perimetro, \"- área:\", area)"
   ]
  },
  {
   "cell_type": "markdown",
   "metadata": {},
   "source": [
    "### Exercício 2"
   ]
  },
  {
   "cell_type": "markdown",
   "metadata": {},
   "source": [
    "Faça um programa em Python que receba quatro notas, calcule e imprima a média aritmética. Observe o exemplo abaixo:"
   ]
  },
  {
   "cell_type": "markdown",
   "metadata": {},
   "source": [
    "Exemplo:\n",
    "\n",
    "* Entrada de Dados:\n",
    "\n",
    "**Digite a primeira nota: 4**\n",
    "\n",
    "**Digite a segunda nota: 5**\n",
    "\n",
    "**Digite a terceira nota: 6**\n",
    "\n",
    "**Digite a quarta nota: 7**\n",
    "\n",
    "* Saída de Dados:\n",
    "\n",
    "** A média aritmética é 5.5**"
   ]
  },
  {
   "cell_type": "code",
   "execution_count": 32,
   "metadata": {},
   "outputs": [
    {
     "name": "stdout",
     "output_type": "stream",
     "text": [
      "Digite a primeira nota: 4\n",
      "Digite a segunda nota: 5\n",
      "Digite a terceira nota: 6\n",
      "Digite a quarta nota: 7\n",
      "A média aritmética é 5.5\n"
     ]
    }
   ],
   "source": [
    "# Resolução do exercício 2\n",
    "\n",
    "nota1 = float(input(\"Digite a primeira nota: \"))\n",
    "nota2 = float(input(\"Digite a segunda nota: \"))\n",
    "nota3 = float(input(\"Digite a terceira nota: \"))\n",
    "nota4 = float(input(\"Digite a quarta nota: \"))\n",
    "\n",
    "media = (nota1 + nota2 + nota3 + nota4) / 4\n",
    "\n",
    "print(\"A média aritmética é\", media)"
   ]
  },
  {
   "cell_type": "markdown",
   "metadata": {},
   "source": [
    "## Praticar tarefa de programação: Exercícios adicionais"
   ]
  },
  {
   "cell_type": "markdown",
   "metadata": {},
   "source": [
    "## Exercício 1"
   ]
  },
  {
   "cell_type": "markdown",
   "metadata": {},
   "source": [
    "Uma empresa de cartão de crédito envia suas faturas por email com a seguinte mensagem:"
   ]
  },
  {
   "cell_type": "markdown",
   "metadata": {},
   "source": [
    "```\n",
    "Olá, Fulano de Tal \n",
    "A sua fatura com vencimento em 9 de Janeiro no valor de R$ 350,00 está fechada.\n",
    "```"
   ]
  },
  {
   "cell_type": "markdown",
   "metadata": {},
   "source": [
    "Escreva um programa que receba (entrada de dados através do teclado) o nome do cliente, o dia de vencimento, o mês de vencimento e o valor da fatura e imprima (saída de dados) a mensagem com os dados recebidos, no mesmo formato da mensagem acima. Note que o programa imprime a saída em duas linhas diferentes. Note também que, como não é preciso realizar cálculos, **o valor não precisa ser convertido para número**, pode ser tratado como texto."
   ]
  },
  {
   "cell_type": "markdown",
   "metadata": {},
   "source": [
    "Abaixo um exemplo de como deve ser a entrada e saída de dados do programa:"
   ]
  },
  {
   "cell_type": "markdown",
   "metadata": {},
   "source": [
    "* Entrada de Dados:"
   ]
  },
  {
   "cell_type": "markdown",
   "metadata": {},
   "source": [
    "```\n",
    "Digite o nome do cliente: Fulano de Tal\n",
    "Digite o dia de vencimento: 9\n",
    "Digite o mês de vencimento: Janeiro\n",
    "Digite o valor da fatura: 350,00\n",
    "```"
   ]
  },
  {
   "cell_type": "markdown",
   "metadata": {},
   "source": [
    "* Saída de Dados:"
   ]
  },
  {
   "cell_type": "markdown",
   "metadata": {},
   "source": [
    "```\n",
    "Olá, Fulano de Tal\n",
    "A sua fatura com vencimento em 9 de Janeiro no valor de R$ 350,00 está fechada.\n",
    "```"
   ]
  },
  {
   "cell_type": "code",
   "execution_count": 1,
   "metadata": {},
   "outputs": [
    {
     "name": "stdout",
     "output_type": "stream",
     "text": [
      "Digite o nome do cliente: Fulano de Tal\n",
      "Digite o dia de vencimento: 9\n",
      "Digite o mês de vencimento: Janeiro\n",
      "Digite o valor da fatura: 350,00\n",
      "Olá,  Fulano de Tal\n",
      "A sua fatura com vencimento em 9 de Janeiro no valor de R$ 350,00 está fechada.\n"
     ]
    }
   ],
   "source": [
    "# Resolução do exercício 1\n",
    "nome = input(\"Digite o nome do cliente: \")\n",
    "dia_vencimento = input(\"Digite o dia de vencimento: \")\n",
    "mes_vencimento = input(\"Digite o mês de vencimento: \")\n",
    "valor = input(\"Digite o valor da fatura: \")\n",
    "\n",
    "print(\"Olá,\", nome)\n",
    "print(\"A sua fatura com vencimento em\", dia_vencimento, \"de\", mes_vencimento, \"no valor de R$\", valor, \"está fechada.\")"
   ]
  },
  {
   "cell_type": "markdown",
   "metadata": {},
   "source": [
    "### Exercício 2"
   ]
  },
  {
   "cell_type": "markdown",
   "metadata": {},
   "source": [
    "Este é o desafio do vídeo \"Entrada de Dados\".\n",
    "\n",
    "Reescreva o programa contaSegundos para imprimir também a quantidade de dias, ou seja, faça um programa em Python que, dada a quantidade de segundos, \"quebre\" esse valor em dias, horas, minutos e segundos. A saída deve estar no formato: **a dias, b horas, c minutos e d segundos.** Seja cuidadoso com o formato! Espaços a mais, vírgulas faltando ou outras diferenças são considerados erro"
   ]
  },
  {
   "cell_type": "markdown",
   "metadata": {},
   "source": [
    "Abaixo um exemplo de como deve ser a entrada e saída de dados do programa:"
   ]
  },
  {
   "cell_type": "markdown",
   "metadata": {},
   "source": [
    "* Entrada de Dados:\n",
    "\n",
    "**Por favor, entre com o número de segundos que deseja converter: 178615**\n",
    "\n",
    "* Saída de Dados:\n",
    "\n",
    "**2 dias, 1 horas, 36 minutos e 55 segundos.**"
   ]
  },
  {
   "cell_type": "code",
   "execution_count": 11,
   "metadata": {},
   "outputs": [
    {
     "name": "stdout",
     "output_type": "stream",
     "text": [
      "Por favor, entre com o número de segundos que deseja converter: 178615\n",
      "2 dias, 1 horas, 36 minutos e 55 segundos.\n"
     ]
    }
   ],
   "source": [
    "# Resolução do exercício 2\n",
    "segundos = int(input(\"Por favor, entre com o número de segundos que deseja converter: \"))\n",
    "\n",
    "dias = segundos // 86400\n",
    "seg_rest_dias = segundos % 86400\n",
    "\n",
    "horas = seg_rest_dias // 3600\n",
    "seg_rest_horas = seg_rest_dias % 3600\n",
    "\n",
    "minutos = seg_rest_horas // 60\n",
    "seg_rest_minutos = seg_rest_horas % 60\n",
    "\n",
    "segundos_final = seg_rest_minutos\n",
    "\n",
    "print(dias, \"dias,\", horas, \"horas,\", minutos, \"minutos e\", segundos_final, \"segundos.\")"
   ]
  },
  {
   "cell_type": "markdown",
   "metadata": {},
   "source": [
    "### Exercício 3"
   ]
  },
  {
   "cell_type": "markdown",
   "metadata": {},
   "source": [
    "Faça um programa em Python que recebe um número inteiro e imprime seu dígito das dezenas. Observe o exemplo abaixo:"
   ]
  },
  {
   "cell_type": "markdown",
   "metadata": {},
   "source": [
    "* Entrada de Dados:\n",
    "\n",
    "**Digite um número inteiro: 78615**\n",
    "\n",
    "* Saída de Dados:\n",
    "\n",
    "**O dígito das dezenas é 1**\n",
    "\n",
    "* Entrada de Dados:\n",
    "\n",
    "**Digite um número inteiro: 2**\n",
    "\n",
    "* Saída de Dados:\n",
    "\n",
    "**O dígito das dezenas é 0** "
   ]
  },
  {
   "cell_type": "markdown",
   "metadata": {},
   "source": [
    "**Dica**: O operador \"//\" faz uma divisão inteira jogando fora o resto, ou seja, aquilo que é menor que o divisor. O operador \"%\" devolve apenas o resto da divisão inteira jogando fora o resultado, ou seja, tudo que é maior ou igual ao divisor."
   ]
  },
  {
   "cell_type": "code",
   "execution_count": 9,
   "metadata": {},
   "outputs": [
    {
     "name": "stdout",
     "output_type": "stream",
     "text": [
      "Digite um número inteiro: 7865\n",
      "O dígito das dezenas é 6\n"
     ]
    }
   ],
   "source": [
    "# Resolução do exercício 3\n",
    "num_int = int(input(\"Digite um número inteiro:\"))\n",
    "digito = (num_int // 10) % 10\n",
    "print(\"O dígito das dezenas é\", digito)"
   ]
  }
 ],
 "metadata": {
  "kernelspec": {
   "display_name": "Python 3",
   "language": "python",
   "name": "python3"
  },
  "language_info": {
   "codemirror_mode": {
    "name": "ipython",
    "version": 3
   },
   "file_extension": ".py",
   "mimetype": "text/x-python",
   "name": "python",
   "nbconvert_exporter": "python",
   "pygments_lexer": "ipython3",
   "version": "3.6.3"
  }
 },
 "nbformat": 4,
 "nbformat_minor": 2
}
